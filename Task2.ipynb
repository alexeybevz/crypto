{
 "cells": [
  {
   "cell_type": "markdown",
   "metadata": {},
   "source": [
    "### Задание 2. Напишите функцию, которая принимает в качестве параметров два буфера одинаковой длины и производит операцию XOR над ними."
   ]
  },
  {
   "cell_type": "code",
   "execution_count": null,
   "metadata": {},
   "outputs": [],
   "source": [
    "buffer1 = '506561636520416c6c204f7665722054686520576f726c64'\n",
    "buffer2 = '4949544353551c0111001f010100061a021f010100061a02'\n",
    "\n",
    "expected_result = '192C352036755D6D7D2050776472264E6A7A21566F747666'"
   ]
  },
  {
   "cell_type": "code",
   "execution_count": 2,
   "metadata": {},
   "outputs": [],
   "source": [
    "def hex_xor(b1, b2):\n",
    "    result = ''\n",
    "    for i in range(len(b1)):\n",
    "        xor = int(b1[i], 16) ^ int(b2[i], 16)\n",
    "        result += str(hex(xor)[2:]).upper()\n",
    "    return result"
   ]
  },
  {
   "cell_type": "code",
   "execution_count": 3,
   "metadata": {},
   "outputs": [
    {
     "name": "stdout",
     "output_type": "stream",
     "text": [
      "Конвертация выполнена успешно\n"
     ]
    }
   ],
   "source": [
    "result = hex_xor(buffer1, buffer2)\n",
    "if result == expected_result:\n",
    "    print('Конвертация выполнена успешно')"
   ]
  }
 ],
 "metadata": {
  "kernelspec": {
   "display_name": "Python 3",
   "language": "python",
   "name": "python3"
  },
  "language_info": {
   "codemirror_mode": {
    "name": "ipython",
    "version": 3
   },
   "file_extension": ".py",
   "mimetype": "text/x-python",
   "name": "python",
   "nbconvert_exporter": "python",
   "pygments_lexer": "ipython3",
   "version": "3.8.5"
  }
 },
 "nbformat": 4,
 "nbformat_minor": 4
}
