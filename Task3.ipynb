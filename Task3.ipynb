{
 "cells": [
  {
   "cell_type": "markdown",
   "metadata": {},
   "source": [
    "### Задание 3. Дана строка закодированная в 16-виде. Данную строку получили путем операции XOR некоторого текста с одним символом. Расшифруйте это сообщение. "
   ]
  },
  {
   "cell_type": "code",
   "execution_count": 1,
   "metadata": {},
   "outputs": [],
   "source": [
    "from textwrap import wrap\n",
    "import pandas as pd"
   ]
  },
  {
   "cell_type": "code",
   "execution_count": 2,
   "metadata": {},
   "outputs": [],
   "source": [
    "input_text = '19367831362e3d2b2c353d362c783136783336372f343d3c3f3d7839342f39212b782839212b782c303d783a3d2b2c7831362c3d2a3d2b2c'"
   ]
  },
  {
   "cell_type": "code",
   "execution_count": 3,
   "metadata": {},
   "outputs": [],
   "source": [
    "def hex_to_dec(x):\n",
    "    return int(x, 16)\n",
    "\n",
    "def get_most_freq_elem(list):\n",
    "    df = pd.DataFrame({'text': list})\n",
    "    return df.text.value_counts()[:1].index.tolist()[0]\n",
    "\n",
    "def char_xor_key(char, key):\n",
    "    return int(char) ^ key\n",
    "\n",
    "def get_decode_message(splitted_decimal, key):\n",
    "    message_codes = [char_xor_key(char, key) for char in splitted_decimal]\n",
    "    return ''.join(map(lambda x: chr(x), message_codes))\n",
    "\n",
    "def decode_text(text):\n",
    "    splitted_text = wrap(text, 2)\n",
    "    splitted_decimal = list(map(hex_to_dec, splitted_text))\n",
    "    \n",
    "    most_freq_elem = get_most_freq_elem(splitted_decimal)\n",
    "    whitespace = 0x20\n",
    "\n",
    "    key = most_freq_elem ^ whitespace\n",
    "    print(f\"Ключ: {chr(key)}\")\n",
    "    \n",
    "    result = get_decode_message(splitted_decimal, key)\n",
    "    \n",
    "    return result"
   ]
  },
  {
   "cell_type": "code",
   "execution_count": 4,
   "metadata": {},
   "outputs": [
    {
     "name": "stdout",
     "output_type": "stream",
     "text": [
      "Ключ: X\n",
      "Расшифрованное сообщение: An investment in knowledge always pays the best interest\n"
     ]
    }
   ],
   "source": [
    "print(\"Расшифрованное сообщение: \" + decode_text(input_text))"
   ]
  }
 ],
 "metadata": {
  "kernelspec": {
   "display_name": "Python 3",
   "language": "python",
   "name": "python3"
  },
  "language_info": {
   "codemirror_mode": {
    "name": "ipython",
    "version": 3
   },
   "file_extension": ".py",
   "mimetype": "text/x-python",
   "name": "python",
   "nbconvert_exporter": "python",
   "pygments_lexer": "ipython3",
   "version": "3.8.5"
  }
 },
 "nbformat": 4,
 "nbformat_minor": 4
}
