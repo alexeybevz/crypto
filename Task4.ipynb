{
 "cells": [
  {
   "cell_type": "markdown",
   "metadata": {},
   "source": [
    "### Задание 4. В качестве входных данных дается файл со строками в hex. Одна из этих строк зашифрована с помощью XOR на одно-символьном ключе. Найдите и расшифруйте эту строку."
   ]
  },
  {
   "cell_type": "code",
   "execution_count": 1,
   "metadata": {},
   "outputs": [],
   "source": [
    "import os\n",
    "import re\n",
    "from textwrap import wrap\n",
    "import pandas as pd"
   ]
  },
  {
   "cell_type": "code",
   "execution_count": 2,
   "metadata": {},
   "outputs": [],
   "source": [
    "def hex_to_dec(x):\n",
    "    return int(x, 16)\n",
    "\n",
    "def get_most_freq_elems(list):\n",
    "    df = pd.DataFrame({'text': list})\n",
    "    return df.text.value_counts()[:1].index.tolist()\n",
    "\n",
    "def char_xor_key(char, key):\n",
    "    return int(char) ^ key\n",
    "\n",
    "def get_decode_message(splitted_decimal, key):\n",
    "    message_codes = [char_xor_key(char, key) for char in splitted_decimal]\n",
    "    return ''.join(map(lambda x: chr(x), message_codes))"
   ]
  },
  {
   "cell_type": "code",
   "execution_count": 3,
   "metadata": {},
   "outputs": [],
   "source": [
    "files = [file for file in os.listdir('.\\Данные') if file.startswith('task14') and file.endswith('.input')]"
   ]
  },
  {
   "cell_type": "code",
   "execution_count": 4,
   "metadata": {},
   "outputs": [
    {
     "data": {
      "text/plain": [
       "[('task140.input',\n",
       "  '2a000a080c41140c0f180c410b00411204030b0041020914171215171414',\n",
       "  'a',\n",
       "  65,\n",
       "  'Kakim umnym ja sebja chuvstvuu'),\n",
       " ('task142.input',\n",
       "  '2a000a080c41140c0f180c410b00411204030b0041020914171215171414',\n",
       "  'a',\n",
       "  65,\n",
       "  'Kakim umnym ja sebja chuvstvuu'),\n",
       " ('task142.input',\n",
       "  '2d272c2d6f630022332a37222f632c256304312622376301312a37222a2d',\n",
       "  'C',\n",
       "  99,\n",
       "  'ndon, Capital of Great Britain')]"
      ]
     },
     "execution_count": 4,
     "metadata": {},
     "output_type": "execute_result"
    }
   ],
   "source": [
    "words_finder_re = re.compile(r'\\w[ a-zA-ZА-Яа-я-.?!)(,:;]+')\n",
    "\n",
    "list_result = []\n",
    "\n",
    "for file in files:\n",
    "    with open('.\\Данные\\\\'+ file, 'r') as f:\n",
    "        lines = [line for line in f.read().split('\\n') if line]\n",
    "    \n",
    "    for line in lines:\n",
    "\n",
    "        splitted_text = wrap(line, 2)\n",
    "        splitted_decimal = list(map(hex_to_dec, splitted_text))\n",
    "\n",
    "        most_freq_elem = get_most_freq_elems(splitted_decimal)[0]\n",
    "\n",
    "        ascii_table = list(range(1, 256))\n",
    "\n",
    "        for char_code in ascii_table:\n",
    "            key = most_freq_elem ^ char_code\n",
    "\n",
    "            result = get_decode_message(splitted_decimal, key)\n",
    "\n",
    "            is_good_result = re.match(words_finder_re, result)\n",
    "\n",
    "            if is_good_result is not None:\n",
    "                if len(is_good_result.group(0)) >= len(splitted_decimal):\n",
    "                    list_result.append((file, line, chr(key), most_freq_elem, result))\n",
    "\n",
    "list_result"
   ]
  }
 ],
 "metadata": {
  "kernelspec": {
   "display_name": "Python 3",
   "language": "python",
   "name": "python3"
  },
  "language_info": {
   "codemirror_mode": {
    "name": "ipython",
    "version": 3
   },
   "file_extension": ".py",
   "mimetype": "text/x-python",
   "name": "python",
   "nbconvert_exporter": "python",
   "pygments_lexer": "ipython3",
   "version": "3.8.5"
  }
 },
 "nbformat": 4,
 "nbformat_minor": 4
}
