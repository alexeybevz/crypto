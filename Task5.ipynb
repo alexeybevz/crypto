{
 "cells": [
  {
   "cell_type": "markdown",
   "metadata": {},
   "source": [
    "### Задание 5. Реализуйте шифрование XOR'ом с повторяющимся ключом."
   ]
  },
  {
   "cell_type": "code",
   "execution_count": null,
   "metadata": {},
   "outputs": [],
   "source": [
    "from textwrap import wrap"
   ]
  },
  {
   "cell_type": "code",
   "execution_count": null,
   "metadata": {},
   "outputs": [],
   "source": [
    "with open('.\\Данные\\\\task15.input', 'r') as f:\n",
    "    text = f.read()\n",
    "    if text.endswith('\\n'):\n",
    "        text = text[:-1]\n",
    "\n",
    "print(f'Текст: {text}')"
   ]
  },
  {
   "cell_type": "code",
   "execution_count": 3,
   "metadata": {},
   "outputs": [],
   "source": [
    "key = 'Shannon'\n",
    "expected_result = '00000000000000730b0e001a1d07311d150b0a4f1a3c4815060b4f083a0d0d0a4e0008730b13171e1b0f3d090d171d061d730e0e1c4e010f27010e000f034e370d070b001c0b730c141c070109733f0e1c020b4e0409134e272642736208000d031b37010f094e07072048030f1d060d731f0e1c054f013d4802010a0a0c210d000507010973090f0a4e1c0b301d130b4e1b0b3f0d020103021b3d01020f1a06013d1b4f'"
   ]
  },
  {
   "cell_type": "code",
   "execution_count": 4,
   "metadata": {},
   "outputs": [],
   "source": [
    "def char_to_bin(x):\n",
    "    return format(ord(x), '08b')\n",
    "\n",
    "def text_to_bin(x):\n",
    "    bits = []\n",
    "    for char in x:\n",
    "        bits.append(char_to_bin(char))\n",
    "    return ''.join(bits)"
   ]
  },
  {
   "cell_type": "code",
   "execution_count": 5,
   "metadata": {},
   "outputs": [],
   "source": [
    "key_bits = text_to_bin(key)\n",
    "text_bits = text_to_bin(text)"
   ]
  },
  {
   "cell_type": "code",
   "execution_count": 6,
   "metadata": {},
   "outputs": [
    {
     "name": "stdout",
     "output_type": "stream",
     "text": [
      "Ключ: 01010011011010000110000101101110011011100110111101101110\n",
      "Текст: 0101001101101000011000010110111001101110011011110110111000100000011000110110111101101110011101000111001001101001011000100111010101110100011001010110010000100000011101000110111100100000011101000110100001100101001000000110011001101001011001010110110001100100001000000110111101100110001000000110001101110010011110010111000001110100011000010110111001100001011011000111100101110011011010010111001100100000011001100110111101110010001000000110111001100001011101000110100101101111011011100110000101101100001000000110010001100101011001100110010101101110011100110110010100100000011001000111010101110010011010010110111001100111001000000101011101101111011100100110110001100100001000000101011101100001011100100010000001001001010010010010110000100000000010100110100101101110011000110110110001110101011001000110100101101110011001110010000001101000011010010111001100100000011000100110000101110011011010010110001100100000011101110110111101110010011010110010000001101111011011100010000001100011011011110110010001100101011000100111001001100101011000010110101101101001011011100110011100100000011000010110111001100100001000000111001101100101011000110111010101110010011001010010000001110100011001010110110001100101011000110110111101101101011011010111010101101110011010010110001101100001011101000110100101101111011011100111001100101110\n"
     ]
    }
   ],
   "source": [
    "print(f'Ключ: {key_bits}')\n",
    "print(f'Текст: {text_bits}')"
   ]
  },
  {
   "cell_type": "code",
   "execution_count": 7,
   "metadata": {},
   "outputs": [],
   "source": [
    "# Дублируем ключ до соответствия длине исходного текста\n",
    "length_input = len(text_bits)\n",
    "\n",
    "div_length = length_input // len(key_bits)\n",
    "mod_length = length_input % len(key_bits)\n",
    "\n",
    "key_bits_all_length = key_bits * div_length + key_bits[:mod_length]"
   ]
  },
  {
   "cell_type": "code",
   "execution_count": 8,
   "metadata": {},
   "outputs": [],
   "source": [
    "xor = [str(int(text_bits[index], 2) ^ int(key_bits_all_length[index], 2)) \n",
    "         for index in range(length_input)]\n",
    "xor = ''.join(xor)"
   ]
  },
  {
   "cell_type": "code",
   "execution_count": 9,
   "metadata": {},
   "outputs": [],
   "source": [
    "xor_hex = [f\"{hex(int(c, 2))[2:]}\" for c in wrap(xor, 4)]\n",
    "result = ''.join(xor_hex)"
   ]
  },
  {
   "cell_type": "code",
   "execution_count": 10,
   "metadata": {},
   "outputs": [
    {
     "name": "stdout",
     "output_type": "stream",
     "text": [
      "Конвертация выполнена успешно\n"
     ]
    }
   ],
   "source": [
    "if result == expected_result:\n",
    "    print('Конвертация выполнена успешно')"
   ]
  }
 ],
 "metadata": {
  "kernelspec": {
   "display_name": "Python 3",
   "language": "python",
   "name": "python3"
  },
  "language_info": {
   "codemirror_mode": {
    "name": "ipython",
    "version": 3
   },
   "file_extension": ".py",
   "mimetype": "text/x-python",
   "name": "python",
   "nbconvert_exporter": "python",
   "pygments_lexer": "ipython3",
   "version": "3.8.5"
  }
 },
 "nbformat": 4,
 "nbformat_minor": 4
}
