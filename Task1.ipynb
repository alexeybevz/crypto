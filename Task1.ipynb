{
 "cells": [
  {
   "cell_type": "markdown",
   "metadata": {},
   "source": [
    "### Задание 1. Напишите функцию конвертации текста, представленном в шестнацеричном виде, в base64."
   ]
  },
  {
   "cell_type": "code",
   "execution_count": 1,
   "metadata": {},
   "outputs": [],
   "source": [
    "from textwrap import wrap"
   ]
  },
  {
   "cell_type": "code",
   "execution_count": 2,
   "metadata": {},
   "outputs": [],
   "source": [
    "input_text = '49276d207374756479696e672043727970746f677261706879206c696b6520436c6175646520456c776f6f64205368616e6e6f6e21'\n",
    "expected_result = 'SSdtIHN0dWR5aW5nIENyeXB0b2dyYXBoeSBsaWtlIENsYXVkZSBFbHdvb2QgU2hhbm5vbiE='\n",
    "alphabet = 'ABCDEFGHIJKLMNOPQRSTUVWXYZabcdefghijklmnopqrstuvwxyz0123456789+/'"
   ]
  },
  {
   "cell_type": "code",
   "execution_count": 3,
   "metadata": {},
   "outputs": [
    {
     "name": "stdout",
     "output_type": "stream",
     "text": [
      "Исходный дешифрованный текст: I'm studying Cryptography like Claude Elwood Shannon!\n"
     ]
    }
   ],
   "source": [
    "print(f'Исходный дешифрованный текст: {bytearray.fromhex(input_text).decode()}')"
   ]
  },
  {
   "cell_type": "code",
   "execution_count": 4,
   "metadata": {},
   "outputs": [],
   "source": [
    "bits_6 = 6\n",
    "\n",
    "def char_to_bin(x):\n",
    "    return format(int(x, 16), '08b')\n",
    "\n",
    "def bin_to_dec(x):\n",
    "    return int(x, 2)\n",
    "\n",
    "def add_needed_chars(bits):\n",
    "    lack = len(bits) % bits_6\n",
    "    if lack > 0:\n",
    "        bits += '0' * (bits_6 - lack)\n",
    "    return bits, lack\n",
    "\n",
    "def hex_to_base64(text):\n",
    "    splitted_text = wrap(text, 2)\n",
    "    splitted_binary = list(map(char_to_bin, splitted_text))   \n",
    "    bitmap = ''.join(splitted_binary)\n",
    "        \n",
    "    bitmap_6 = wrap(bitmap, bits_6)\n",
    "    last_bitmap, lack = add_needed_chars(bitmap_6[-1])\n",
    "    bitmap_6[-1] = last_bitmap\n",
    "    \n",
    "    decimals = list(map(bin_to_dec, bitmap_6))       \n",
    "\n",
    "    result = ''.join([alphabet[i] for i in decimals])\n",
    "    \n",
    "    if lack:\n",
    "        result += '=' * int((bits_6 - lack) / 2)\n",
    "    \n",
    "    return result"
   ]
  },
  {
   "cell_type": "code",
   "execution_count": 5,
   "metadata": {},
   "outputs": [
    {
     "name": "stdout",
     "output_type": "stream",
     "text": [
      "Конвертация выполнена успешно\n"
     ]
    }
   ],
   "source": [
    "result = hex_to_base64(input_text)\n",
    "if result == expected_result:\n",
    "    print('Конвертация выполнена успешно')"
   ]
  }
 ],
 "metadata": {
  "kernelspec": {
   "display_name": "Python 3",
   "language": "python",
   "name": "python3"
  },
  "language_info": {
   "codemirror_mode": {
    "name": "ipython",
    "version": 3
   },
   "file_extension": ".py",
   "mimetype": "text/x-python",
   "name": "python",
   "nbconvert_exporter": "python",
   "pygments_lexer": "ipython3",
   "version": "3.8.5"
  }
 },
 "nbformat": 4,
 "nbformat_minor": 4
}
